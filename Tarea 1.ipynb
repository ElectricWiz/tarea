{
 "cells": [
  {
   "cell_type": "markdown",
   "id": "b8296667",
   "metadata": {},
   "source": [
    "# Tarea 1\n",
    "\n",
    "En esta tarea resolverán varios problemas relacionados con los algoritmos de Monte-Carlo. Por favor, tengan en cuenta que la tarea será bastante larga. Esta es sólo la primera parte de 3 partes. \n",
    "\n",
    "Parece que son \n",
    "\n",
    "\n",
    "## Integrales de Monte-Carlo\n",
    "\n",
    "Esta sección son problemas \"fáciles\", pero tardados. Tendrás que correr simulaciones por varios minutos. Como son problemas fáciles, valen entre los 5 problemas, 1 punto de la tarea. "
   ]
  },
  {
   "cell_type": "markdown",
   "id": "da9b8769",
   "metadata": {},
   "source": [
    "[1] Haz una función general del método de disparo de Monte-Carlo para integración. La función debe tener como argumentos la función de $n$ variables que se integrará; una región definida por $2n$ valores que corresponden a los valores iniciales y finales de cada lado de un prisma rectangular sobre el cual se integrará la función; el valor máximo y el mínimo de la función en la región de integración; y el número de tiros que se harán para estimar la integración. \n",
    "\n",
    "Prueba tu función con unas 3 o 4 integrales que puedas comprobar!"
   ]
  },
  {
   "cell_type": "code",
   "execution_count": null,
   "id": "5ebce3af",
   "metadata": {},
   "outputs": [],
   "source": []
  },
  {
   "cell_type": "markdown",
   "id": "f2e5d61d",
   "metadata": {},
   "source": [
    "[2] En este ejercicio necesitarás usar la paquetería StatsBase y LsqFit. Revisa su documentación. Utiliza la función anterior para obtener un histograma (con al menos $10^4$ muestras) normalizado (para esto usa StatBase) y ajustale una gaussiana. Repite esto para diferentes números de tiros. Finalmente haz una gráfica de la desviación estandar de la gaussiana como función del número de tiros.  "
   ]
  },
  {
   "cell_type": "code",
   "execution_count": null,
   "id": "6f897b36",
   "metadata": {},
   "outputs": [],
   "source": []
  },
  {
   "cell_type": "markdown",
   "id": "1b6f202f",
   "metadata": {},
   "source": [
    "[3] Repite el ejercicio anterior para funciones de dimensión $1$, $2$, $3$ y $4$. Con los resultados, mide (usando @elapse) el tiempo de cómputo que lleva producir una aproximación a una integral como función de la desviación estandar (que es el equivalente al error en el método de Monte-Carlo) para las funciones de $1$, $2$, $3$ y $4$ dimensiones. Compara con el tiempo que lleva hacer una suma de Riemman para los mismos casos, esta vez como función de la separación entre puntos de integración $\\Delta x$. ¿En qué dimensión se vuelve mejor el método de disparo?"
   ]
  },
  {
   "cell_type": "code",
   "execution_count": null,
   "id": "9acd4582",
   "metadata": {},
   "outputs": [],
   "source": []
  },
  {
   "cell_type": "markdown",
   "id": "cab1249e",
   "metadata": {},
   "source": [
    "[4] Utilizando la definición de valor esperado de una variable aleatoria, muestra (matemáticamente) cómo se puede calcular la integral $$\\int_{a}^b f(x) dx$$ (en clase lo hicimos para $a = 0$ y $b = 1$, generaliza eso para cualquier $a$ y $b$).  Finalmente implementa una función que calcule la integral de otra entre 2 valores usando esta idea. "
   ]
  },
  {
   "cell_type": "code",
   "execution_count": null,
   "id": "844b3a8c",
   "metadata": {},
   "outputs": [],
   "source": []
  },
  {
   "cell_type": "markdown",
   "id": "78b7c153",
   "metadata": {},
   "source": [
    "[5] Generaliza la función anterior para aplicarlo a integrales múltiples. Prueba con las mismas funciones que usaste en el ejercicio 3. Luego mide el tiempo de cómputo como función de la desviación estándar al menos para dimensión 1 y 4. ¿Qué método es mejor, el de disparo o este? "
   ]
  },
  {
   "cell_type": "code",
   "execution_count": null,
   "id": "b87bf292",
   "metadata": {},
   "outputs": [],
   "source": []
  },
  {
   "cell_type": "markdown",
   "id": "3f1bc836",
   "metadata": {},
   "source": [
    "## Ecuaciones diferenciales parciales\n",
    "\n",
    "Esta sección es difícil. Hacer los programas te llevará tiempo y correrlos también. Aunque son menos problemas, te llevará probablemente más que el doble de tiempo hacerlos que el resto. Como estos son problemas más difíciles, cada uno vale 1 punto. "
   ]
  },
  {
   "cell_type": "markdown",
   "id": "101f8739",
   "metadata": {},
   "source": [
    "[6] ¿Qué tienes que modificar al caminante aleatorio para resolver la ecuación $\\nabla u = c$ donde $c$ es una constante? Haz el código que resuelva este caso. "
   ]
  },
  {
   "cell_type": "code",
   "execution_count": null,
   "id": "86fac41c",
   "metadata": {},
   "outputs": [],
   "source": []
  },
  {
   "cell_type": "markdown",
   "id": "10d38466",
   "metadata": {},
   "source": [
    "[7] ¿Qué modelo de caminante aleatorio se puede usar para resolver la ecuación de onda? Una vez que hayas encontrado el modelo de caminante aleatorio adecuado, resuelve la ecuación de onda en una placa cuadrada donde los bordes están fijos (el centro es el que tiene la perturvación). Con eso obtendrás las figuras de Chlandi (es decir, la onda estacionaria). Prueba el dejar un punto fijo dentro de la ¿se forma alguna figura? ¿Se puede fijar un punto en cualquier lugar de la placa y aún obtener las figuras de Chlandi? \n",
    "\n",
    "También resuélvelo para alguna otra placa que quieras ¿Para cualquier forma de placa se obtiene un estado estacionario? \n",
    "\n",
    "Nota: Recuerda que para resolver este caso, debes tener las condiciones iniciales (todos los valores de la placa al tiempo 0 y todas las velocidades (o valores de la placa al tiempo 1) iniciales), además de las condiciones a la frontera (cuánto vale $u$ en la frontera en todo momento). Además, como estamos interesados en una oscilación constante, se debe tener una función del valor de $u$ en un punto que sea del tipo $A cos(\\omega t)$.   "
   ]
  },
  {
   "cell_type": "code",
   "execution_count": null,
   "id": "4282420d",
   "metadata": {},
   "outputs": [],
   "source": []
  },
  {
   "cell_type": "markdown",
   "id": "05d69d9b",
   "metadata": {},
   "source": [
    "**Nota**: En total esta primera parte vale 3 puntos. Las siguientes 2 partes valdrán 4 y 4 puntos porque serán un poquito más difíciles que esta. Tendrán poco más de un mes para hacer toda la tarea. El martes de la próxima semana subo la siguiente parte y doy la clase sobre el algoritmo de Metropolis y algunas variaciones de este. "
   ]
  },
  {
   "cell_type": "code",
   "execution_count": null,
   "id": "e2c88fd6",
   "metadata": {},
   "outputs": [],
   "source": []
  },
  {
   "cell_type": "markdown",
   "id": "fae06b43",
   "metadata": {},
   "source": [
    "[8] **Capacidad calorífica, suceptibilidad magnética e histéresis en el modelo de Ising:** Haremos este problema en varios pasos. \n",
    "\n",
    "* Obtén el número de pasos de Monte-Carlo para alcanzar el equilibrio. Para esto grafica para 3 valores de la temperatura $k_B T = 0.1, 2.2$ y $4$ la energía $H$ y la magnetización $m$ contra el tiempo (número de pasos) en el modelo de Ising para $J = 1$, $B = 0.01$ y $L = 50$. Asegúrate de normalizar la energía, dividiéndola entre la máxima energía posible del sistema, de forma que puedas graficar $H$ y $m$ en una misma gráfica y que más o menos estén en la misma escala (entre 0 y 1). No olvides ponerle el valor absoluto a $m$. Para elegir la cantidad de pasos adecuada que debe tener tu sistema, asegúrate que en los 3 casos, la $H$ y $m$ lleguen a valores similares y más o menos estables (salvo fluctuaciones). El número de pasos donde eso suceda + 10\\% será el número de pasos adecuado. **Nota: para graficar tendrás muchísimos datos, grafica sólo 1 de cada mil, sino Plots no podrá con la gráfica y trabarás tu computadora.** \n",
    "\n",
    "* Con ese número de pasos haz 100 simulaciones donde guardes 100 de los últimos $10^4$ datos (o sea 1 de cada 100 pasos de Monte-Carlo) para 100 valores de la temperatura (con $k_B T$ entre 0 y 4) comenzando siempre desde un arreglo aleatorio, de forma que tengas para cada valor de la temperatura $10^4$ datos de la energía y de la magnetización. Con esos datos obtén $\\langle m \\rangle$, $\\langle E \\rangle$, $\\langle m^2 \\rangle$, $\\langle E^2 \\rangle$ y con ello obtén $C_B$ y $\\chi_B$. Guarda tus datos para hacer las gráficas de $\\langle m \\rangle$ y $\\langle E \\rangle$. \n",
    "\n",
    "* Repite el inciso anterior, esta vez sólo haciendo un promedio de los últimos $10^3$ pasos (sin hacer ya 100 simulaciones) y compara lo obtenido para $\\langle m \\rangle$ y $\\langle E \\rangle$ usando lo del ejercicio anterior. Notarás que se obtiene casi lo mismo (no en cambio con $C_B$ y $\\chi_B$. \n",
    "\n",
    "* Repite el inciso anterior (sólo midiendo $\\langle m \\rangle$ y $\\langle E \\rangle$) pero esta vez el estado inicial en cada temperatura será el estado final de la temperatura anterior, comenzando por un sistema completamente ordenado para $k_B T = 0$. Después haz la gráfica en sentido contrario, es decir, comenzando con un sistema completamente desordenado a $k_B T = 4$ y reduciendo de $0.04$ en $0.04$ la temperatura. Grafica ambos casos (tanto $\\langle m \\rangle$ y $\\langle E \\rangle$). \n",
    "\n",
    "* Repite el inciso anterior para un cuarto del número de pasos y observa qué sucede. (deberías ver que el ciclo de histéresis se incrementa). "
   ]
  },
  {
   "cell_type": "code",
   "execution_count": null,
   "id": "ea24057e",
   "metadata": {},
   "outputs": [],
   "source": []
  },
  {
   "cell_type": "markdown",
   "id": "aff0c7a1",
   "metadata": {},
   "source": [
    "[9] **Modelo XY**: El modelo XY es como el modelo de Ising, salvo que los espines pueden apuntar en cualquier dirección y no sólo en 2 direcciones. Por lo tanto, para calcular la energía del sistema se requiere calcular el producto punto (equivalentemente el ángulo) entre el campo magnético y el espín y también el ángulo entre dos espines vecinos. \n",
    "\n",
    "$$ H(\\sigma) = - \\sum_{i\\neq j} J_{ij}\\; \\vec{\\sigma}_i\\cdot\\vec{\\sigma}_j -\\sum_j \\mathbf{B}_j\\cdot \\vec{\\sigma}_j$$\n",
    "\n",
    "Considera que $J$ y $B$ son constantes.\n",
    "\n",
    "Este es uno de esos modelos que NO debería presentar una transición de fase en el sentido clásico según el teorema de Mermin-Wagner, pues es un sistema continuo (la posición es discreta, pero la orientación es continua). \n",
    "\n",
    "* Repite el primer inciso del problema anterior usando este modelo, pero esta vez para $k_B T = 0.1, 0.9$ y $2$. Con eso obtén el número de pasos de Monte-Carlo para que el sistema \"termalice\". \n",
    "\n",
    "* Mide $\\langle m \\rangle$ y $\\langle E \\rangle$ (usando el promedio de los último $10^3$ pasos en un solo sistema) y reduciendo la temperatura desde un estado completamente desordenado (comienza en $k_B T = 2$), para variaciones de $\\Delta k_B T = 0.01$ lentas (2 veces el número de pasos de Monte-Carlo que encontraste en el iniciso 1). ¿Si observas una transición de fase (o algo similar), a qué temperatura la observas (aproximadamente)? \n",
    "\n",
    "* Repite ahora el experimento con variaciones rápidas de la temeratura (1, 1/2, 1/3, 1/4 y 1/8 veces el número de pasos de Monte-Carlo que usaste en el inciso anterior). Haz una gráfica del sistema que obtienes en cada caso cuando llegas a temperatura 0. Para esto dibuja una red de $50\\times 50$ donde en cada nodo pongas una flechita que represente al espín (apuntando en la dirección que le corresponde). ¿Se ordenan siempre los espines en alguna dirección? \n",
    "\n",
    "Nota: Este es el segundo problema que trataron Kosterliz y Thoules, el primero fue el de discos duros, el segundo fue este. Por ambos se les dió el premio Nobel de Física en 2016. Además, en 2021 Parisi recibió el premio Nobel de Física por 2 razones, por estudiar sistemas complejos en general y por sus trabajos sobre vidrios de espín, que son las estructuras que deberían encontrar para enfriamientos rápidos en este modelo! "
   ]
  },
  {
   "cell_type": "code",
   "execution_count": null,
   "id": "d88fbb07",
   "metadata": {},
   "outputs": [],
   "source": []
  },
  {
   "cell_type": "markdown",
   "id": "6f866c3a",
   "metadata": {},
   "source": [
    "[10] **Esferas suaves**: Utiliza el potencial de Lennard-Jones (LJ) para simular partículas suaves. Es decir, partículas que a partir de una cierta distancia tienen un potencial $0$, pero si la distancia es menor que ese radio, su potencial es el de LJ. Para no tener problemas de continuidad, elige el radio igual al radio donde el potencial de LJ se vuelve 0. \n",
    "\n",
    "**Nota:** Este problema se trata sólo de repetir lo mismo que hicimos para esferas duras, pero para esferas suaves. No se pide ninguna medición, sólo hacer la animación de cómo van creciendo y acomodándose las esferas. "
   ]
  },
  {
   "cell_type": "code",
   "execution_count": null,
   "id": "425893d9",
   "metadata": {},
   "outputs": [],
   "source": []
  }
 ],
 "metadata": {
  "kernelspec": {
   "display_name": "Julia 1.7.2",
   "language": "julia",
   "name": "julia-1.7"
  },
  "language_info": {
   "file_extension": ".jl",
   "mimetype": "application/julia",
   "name": "julia",
   "version": "1.7.2"
  }
 },
 "nbformat": 4,
 "nbformat_minor": 5
}
